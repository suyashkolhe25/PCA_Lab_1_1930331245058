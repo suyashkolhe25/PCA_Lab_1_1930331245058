{
  "nbformat": 4,
  "nbformat_minor": 0,
  "metadata": {
    "colab": {
      "name": "PCA_Lab_1_1930331245058.ipynb",
      "provenance": [],
      "authorship_tag": "ABX9TyPc3XEAadfZHJrPIoc7zt5P",
      "include_colab_link": true
    },
    "kernelspec": {
      "name": "python3",
      "display_name": "Python 3"
    },
    "language_info": {
      "name": "python"
    }
  },
  "cells": [
    {
      "cell_type": "markdown",
      "metadata": {
        "id": "view-in-github",
        "colab_type": "text"
      },
      "source": [
        "<a href=\"https://colab.research.google.com/github/suyashkolhe25/PCA_Lab_1_1930331245058/blob/main/PCA_Lab_1_1930331245058.ipynb\" target=\"_parent\"><img src=\"https://colab.research.google.com/assets/colab-badge.svg\" alt=\"Open In Colab\"/></a>"
      ]
    },
    {
      "cell_type": "code",
      "execution_count": 1,
      "metadata": {
        "colab": {
          "base_uri": "https://localhost:8080/"
        },
        "id": "dvas8f1YdjDZ",
        "outputId": "26a45bc8-27b5-4361-9787-4358f4cd82b1"
      },
      "outputs": [
        {
          "output_type": "stream",
          "name": "stdout",
          "text": [
            "[[2.5 2.4]\n",
            " [0.5 0.7]\n",
            " [2.2 2.9]\n",
            " [1.9 2.2]\n",
            " [3.1 3. ]\n",
            " [2.3 2.7]\n",
            " [2.  1.6]\n",
            " [1.  1.1]\n",
            " [1.5 1.6]\n",
            " [1.1 0.9]]\n"
          ]
        }
      ],
      "source": [
        "from numpy import array\n",
        "from numpy import mean\n",
        "from numpy import cov\n",
        "from numpy.linalg import eig\n",
        "import pandas as pd\n",
        "\n",
        "# define a matrix\n",
        "A = array([[2.5,2.4],\n",
        "           [0.5,0.7],\n",
        "           [2.2,2.9],\n",
        "           [1.9,2.2],\n",
        "           [3.1,3.0],\n",
        "           [2.3,2.7],\n",
        "           [2,1.6],\n",
        "           [1,1.1],\n",
        "           [1.5,1.6],\n",
        "           [1.1,0.9]])\n",
        "print(A)"
      ]
    },
    {
      "cell_type": "code",
      "source": [
        "#eigendecomposition of covariance matrix\n",
        "values, vectors = eig(V)\n",
        "print(vectors)\n",
        "print(values)"
      ],
      "metadata": {
        "id": "BfBjulEKd09f"
      },
      "execution_count": null,
      "outputs": []
    },
    {
      "cell_type": "code",
      "source": [
        "M = mean(A.T, axis=1)\n",
        "print(M)"
      ],
      "metadata": {
        "colab": {
          "base_uri": "https://localhost:8080/"
        },
        "id": "_JnqSbe-drkK",
        "outputId": "b00c1c7c-a12a-42d4-ead7-2c7d0ee9391a"
      },
      "execution_count": 2,
      "outputs": [
        {
          "output_type": "stream",
          "name": "stdout",
          "text": [
            "[1.81 1.91]\n"
          ]
        }
      ]
    },
    {
      "cell_type": "code",
      "source": [
        "C = A - M\n",
        "print(C)"
      ],
      "metadata": {
        "colab": {
          "base_uri": "https://localhost:8080/"
        },
        "id": "NYxesH_tdulk",
        "outputId": "aed4ef89-d1e2-4888-9b5e-f6e39f47a046"
      },
      "execution_count": 3,
      "outputs": [
        {
          "output_type": "stream",
          "name": "stdout",
          "text": [
            "[[ 0.69  0.49]\n",
            " [-1.31 -1.21]\n",
            " [ 0.39  0.99]\n",
            " [ 0.09  0.29]\n",
            " [ 1.29  1.09]\n",
            " [ 0.49  0.79]\n",
            " [ 0.19 -0.31]\n",
            " [-0.81 -0.81]\n",
            " [-0.31 -0.31]\n",
            " [-0.71 -1.01]]\n"
          ]
        }
      ]
    },
    {
      "cell_type": "markdown",
      "source": [
        "calculate covariance matrix of centered matrix."
      ],
      "metadata": {
        "id": "oRmSOyZpeDIU"
      }
    },
    {
      "cell_type": "code",
      "source": [
        "V = cov(C.T)\n",
        "print(V)"
      ],
      "metadata": {
        "colab": {
          "base_uri": "https://localhost:8080/"
        },
        "id": "bFWAezo3dyVy",
        "outputId": "fbbc3a1f-1845-4098-bc86-5a54ce004075"
      },
      "execution_count": 4,
      "outputs": [
        {
          "output_type": "stream",
          "name": "stdout",
          "text": [
            "[[0.61655556 0.61544444]\n",
            " [0.61544444 0.71655556]]\n"
          ]
        }
      ]
    },
    {
      "cell_type": "code",
      "source": [
        "#eigendecomposition of covariance matrix\n",
        "values, vectors = eig(V)\n",
        "print(vectors)\n",
        "print(values)"
      ],
      "metadata": {
        "colab": {
          "base_uri": "https://localhost:8080/"
        },
        "id": "fYd18nnFd5OV",
        "outputId": "05a7d331-4a07-4b12-8c22-ebd1fc2c4d91"
      },
      "execution_count": 5,
      "outputs": [
        {
          "output_type": "stream",
          "name": "stdout",
          "text": [
            "[[-0.73517866 -0.6778734 ]\n",
            " [ 0.6778734  -0.73517866]]\n",
            "[0.0490834  1.28402771]\n"
          ]
        }
      ]
    },
    {
      "cell_type": "code",
      "source": [
        "#project data\n",
        "P = vectors.T.dot(C.T)\n",
        "print(P.T)"
      ],
      "metadata": {
        "colab": {
          "base_uri": "https://localhost:8080/"
        },
        "id": "hliq6NMvd7HJ",
        "outputId": "ccbf94d8-dcb4-4576-87b1-d3a93379f3e3"
      },
      "execution_count": 6,
      "outputs": [
        {
          "output_type": "stream",
          "name": "stdout",
          "text": [
            "[[-0.17511531 -0.82797019]\n",
            " [ 0.14285723  1.77758033]\n",
            " [ 0.38437499 -0.99219749]\n",
            " [ 0.13041721 -0.27421042]\n",
            " [-0.20949846 -1.67580142]\n",
            " [ 0.17528244 -0.9129491 ]\n",
            " [-0.3498247   0.09910944]\n",
            " [ 0.04641726  1.14457216]\n",
            " [ 0.01776463  0.43804614]\n",
            " [-0.16267529  1.22382056]]\n"
          ]
        }
      ]
    },
    {
      "cell_type": "code",
      "source": [
        "from sklearn.decomposition import PCA\n",
        "\n",
        "pca = PCA(2)\n",
        "pca.fit_transform(A)\n",
        "print(pca.components_)\n",
        "print(pca.explained_variance_)\n",
        "#transform data\n",
        "B = pca.transform(A)\n",
        "print(B)"
      ],
      "metadata": {
        "colab": {
          "base_uri": "https://localhost:8080/"
        },
        "id": "fggB7560d8-z",
        "outputId": "e3e000b1-ced1-4c48-bc55-ff7b990b0217"
      },
      "execution_count": 7,
      "outputs": [
        {
          "output_type": "stream",
          "name": "stdout",
          "text": [
            "[[-0.6778734  -0.73517866]\n",
            " [-0.73517866  0.6778734 ]]\n",
            "[1.28402771 0.0490834 ]\n",
            "[[-0.82797019 -0.17511531]\n",
            " [ 1.77758033  0.14285723]\n",
            " [-0.99219749  0.38437499]\n",
            " [-0.27421042  0.13041721]\n",
            " [-1.67580142 -0.20949846]\n",
            " [-0.9129491   0.17528244]\n",
            " [ 0.09910944 -0.3498247 ]\n",
            " [ 1.14457216  0.04641726]\n",
            " [ 0.43804614  0.01776463]\n",
            " [ 1.22382056 -0.16267529]]\n"
          ]
        }
      ]
    }
  ]
}